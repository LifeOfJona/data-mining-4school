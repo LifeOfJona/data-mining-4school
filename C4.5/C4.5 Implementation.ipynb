{
 "cells": [
  {
   "cell_type": "code",
   "execution_count": 1,
   "metadata": {},
   "outputs": [
    {
     "name": "stdout",
     "output_type": "stream",
     "text": [
      "outlook = outlook : \n",
      "\thumidity <= 77.5 : Play\n",
      "\thumidity > 77.5 : Don't play\n",
      "outlook = temperature : Play\n",
      "outlook = humidity : \n",
      "\twindy = outlook : Don't play\n",
      "\twindy = temperature : Play\n"
     ]
    }
   ],
   "source": [
    "# test\n",
    "import pdb\n",
    "from c45 import C45\n",
    "\n",
    "c1 = C45(\"./data/weather.data\", \"./data/weather.names\")\n",
    "c1.fetchData()\n",
    "c1.preprocessData()\n",
    "c1.generateTree()\n",
    "c1.printTree()"
   ]
  },
  {
   "cell_type": "code",
   "execution_count": 2,
   "metadata": {
    "scrolled": false
   },
   "outputs": [
    {
     "data": {
      "image/png": "[encoded data removed]",
      "text/plain": [
       "<IPython.core.display.Image object>"
      ]
     },
     "execution_count": 2,
     "metadata": {},
     "output_type": "execute_result"
    }
   ],
   "source": [
    "# Sort of what it looks like\n",
    "from IPython.display import Image\n",
    "Image(\"img/weather-tree.png\")"
   ]
  },
  {
   "cell_type": "code",
   "execution_count": 3,
   "metadata": {},
   "outputs": [
    {
     "name": "stdout",
     "output_type": "stream",
     "text": [
      "safety = buying : unacc\n",
      "safety = maint : \n",
      "\tpersons = buying : unacc\n",
      "\tpersons = maint : \n",
      "\t\tlug_boot = buying : \n",
      "\t\t\tbuying = buying : unacc\n",
      "\t\t\tbuying = maint : unacc\n",
      "\t\t\tbuying = doors : \n",
      "\t\t\t\tmaint = buying : unacc\n",
      "\t\t\t\tmaint = maint : unacc\n",
      "\t\t\t\tmaint = doors : acc\n",
      "\t\t\t\tmaint = persons : Fail\n",
      "\t\t\tbuying = persons : Fail\n",
      "\t\tlug_boot = maint : \n",
      "\t\t\tbuying = buying : \n",
      "\t\t\t\tmaint = buying : unacc\n",
      "\t\t\t\tmaint = maint : unacc\n",
      "\t\t\t\tmaint = doors : \n",
      "\t\t\t\t\tdoors = buying : unacc\n",
      "\t\t\t\t\tdoors = maint : unacc\n",
      "\t\t\t\t\tdoors = doors : acc\n",
      "\t\t\t\t\tdoors = persons : Fail\n",
      "\t\t\t\tmaint = persons : Fail\n",
      "\t\t\tbuying = maint : \n",
      "\t\t\t\tdoors = buying : unacc\n",
      "\t\t\t\tdoors = maint : unacc\n",
      "\t\t\t\tdoors = doors : \n",
      "\t\t\t\t\tmaint = buying : unacc\n",
      "\t\t\t\t\tmaint = maint : acc\n",
      "\t\t\t\t\tmaint = doors : acc\n",
      "\t\t\t\t\tmaint = persons : Fail\n",
      "\t\t\t\tdoors = persons : Fail\n",
      "\t\t\tbuying = doors : \n",
      "\t\t\t\tmaint = buying : \n",
      "\t\t\t\t\tdoors = buying : unacc\n",
      "\t\t\t\t\tdoors = maint : unacc\n",
      "\t\t\t\t\tdoors = doors : acc\n",
      "\t\t\t\t\tdoors = persons : Fail\n",
      "\t\t\t\tmaint = maint : \n",
      "\t\t\t\t\tdoors = buying : unacc\n",
      "\t\t\t\t\tdoors = maint : unacc\n",
      "\t\t\t\t\tdoors = doors : acc\n",
      "\t\t\t\t\tdoors = persons : Fail\n",
      "\t\t\t\tmaint = doors : acc\n",
      "\t\t\t\tmaint = persons : Fail\n",
      "\t\t\tbuying = persons : Fail\n",
      "\t\tlug_boot = doors : Fail\n",
      "\tpersons = doors : Fail\n",
      "safety = doors : Fail\n"
     ]
    }
   ],
   "source": [
    "# car evaluation\n",
    "import pdb\n",
    "from c45 import C45\n",
    "\n",
    "c1 = C45(\"./data/car.data\", \"./data/car.c45-names\")\n",
    "c1.fetchData()\n",
    "c1.preprocessData()\n",
    "c1.generateTree()\n",
    "c1.printTree()"
   ]
  }
 ],
 "metadata": {
  "kernelspec": {
   "display_name": "Python 3",
   "language": "python",
   "name": "python3"
  },
  "language_info": {
   "codemirror_mode": {
    "name": "ipython",
    "version": 3
   },
   "file_extension": ".py",
   "mimetype": "text/x-python",
   "name": "python",
   "nbconvert_exporter": "python",
   "pygments_lexer": "ipython3",
   "version": "3.8.2"
  }
 },
 "nbformat": 4,
 "nbformat_minor": 4
}
